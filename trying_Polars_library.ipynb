{
  "nbformat": 4,
  "nbformat_minor": 0,
  "metadata": {
    "colab": {
      "provenance": [],
      "mount_file_id": "1w1oaPRYhV77ZBx1xTJJPEzo0mej9mnee",
      "authorship_tag": "ABX9TyMRisXMUlOLshGsYOAVaU97",
      "include_colab_link": true
    },
    "kernelspec": {
      "name": "python3",
      "display_name": "Python 3"
    },
    "language_info": {
      "name": "python"
    }
  },
  "cells": [
    {
      "cell_type": "markdown",
      "metadata": {
        "id": "view-in-github",
        "colab_type": "text"
      },
      "source": [
        "<a href=\"https://colab.research.google.com/github/WillyKitheka/code-doyen/blob/main/trying_Polars_library.ipynb\" target=\"_parent\"><img src=\"https://colab.research.google.com/assets/colab-badge.svg\" alt=\"Open In Colab\"/></a>"
      ]
    },
    {
      "cell_type": "code",
      "source": [
        "!pip install polars"
      ],
      "metadata": {
        "colab": {
          "base_uri": "https://localhost:8080/"
        },
        "id": "_9M2H-lhVR3f",
        "outputId": "af8e033c-009c-4e3a-c278-15adc0f905c9"
      },
      "execution_count": 2,
      "outputs": [
        {
          "output_type": "stream",
          "name": "stdout",
          "text": [
            "Looking in indexes: https://pypi.org/simple, https://us-python.pkg.dev/colab-wheels/public/simple/\n",
            "Collecting polars\n",
            "  Downloading polars-0.16.14-cp37-abi3-manylinux_2_17_x86_64.manylinux2014_x86_64.whl (16.2 MB)\n",
            "\u001b[2K     \u001b[90m━━━━━━━━━━━━━━━━━━━━━━━━━━━━━━━━━━━━━━━━\u001b[0m \u001b[32m16.2/16.2 MB\u001b[0m \u001b[31m48.6 MB/s\u001b[0m eta \u001b[36m0:00:00\u001b[0m\n",
            "\u001b[?25hRequirement already satisfied: typing_extensions>=4.0.1 in /usr/local/lib/python3.9/dist-packages (from polars) (4.5.0)\n",
            "Installing collected packages: polars\n",
            "Successfully installed polars-0.16.14\n"
          ]
        }
      ]
    },
    {
      "cell_type": "code",
      "execution_count": 3,
      "metadata": {
        "id": "cosIWbQYUr5j"
      },
      "outputs": [],
      "source": [
        "import polars as pl\n",
        "import pandas as pd"
      ]
    },
    {
      "cell_type": "code",
      "source": [
        "%timeit pl_df  = pl.read_csv('/content/drive/MyDrive/maGiK_15_sample_space/df_magik15_file1_concat.csv')\n",
        "\n",
        "%timeit pd_df = pd.read_csv('/content/drive/MyDrive/maGiK_15_sample_space/df_magik15_file1_concat.csv')"
      ],
      "metadata": {
        "id": "3AFnOdkxVd9t"
      },
      "execution_count": null,
      "outputs": []
    }
  ]
}