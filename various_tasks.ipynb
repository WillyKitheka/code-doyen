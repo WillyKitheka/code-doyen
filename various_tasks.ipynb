{
  "nbformat": 4,
  "nbformat_minor": 0,
  "metadata": {
    "colab": {
      "provenance": [],
      "authorship_tag": "ABX9TyOlkD1DkO2OSZRfVSNSPvy7",
      "include_colab_link": true
    },
    "kernelspec": {
      "name": "python3",
      "display_name": "Python 3"
    },
    "language_info": {
      "name": "python"
    }
  },
  "cells": [
    {
      "cell_type": "markdown",
      "metadata": {
        "id": "view-in-github",
        "colab_type": "text"
      },
      "source": [
        "<a href=\"https://colab.research.google.com/github/WillyKitheka/code-doyen/blob/main/various_tasks.ipynb\" target=\"_parent\"><img src=\"https://colab.research.google.com/assets/colab-badge.svg\" alt=\"Open In Colab\"/></a>"
      ]
    },
    {
      "cell_type": "code",
      "execution_count": null,
      "metadata": {
        "id": "7hH6P_4LyuKB"
      },
      "outputs": [],
      "source": [
        "import os\n",
        "\n",
        "def select_files(folder_path, file_count):\n",
        "    selected_files = []\n",
        "    count = 0\n",
        "    for root, dirs, files in os.walk(folder_path):\n",
        "        for file in files:\n",
        "            if 'comparative_distributions_' in file and '.csv' in file:\n",
        "                selected_files.append(os.path.join(root, file))\n",
        "                count += 1\n",
        "                if count >= file_count:\n",
        "                    return selected_files\n",
        "    return selected_files\n"
      ]
    },
    {
      "cell_type": "code",
      "source": [
        "folder_path = '/path/to/folder'\n",
        "file_count = 10\n",
        "selected_files = select_files(folder_path, file_count)\n"
      ],
      "metadata": {
        "id": "nKSh2L84y2bh"
      },
      "execution_count": null,
      "outputs": []
    },
    {
      "cell_type": "code",
      "source": [
        "import os\n",
        "\n",
        "def delete_files_of_size(folder_path, size):\n",
        "    for root, dirs, files in os.walk(folder_path):\n",
        "        for file in files:\n",
        "            file_path = os.path.join(root, file)\n",
        "            if os.path.isfile(file_path) and os.path.getsize(file_path) == size:\n",
        "                os.remove(file_path)\n",
        "                print(f\"Deleted file: {file_path}\")\n"
      ],
      "metadata": {
        "id": "Xp_W9YhL6q95"
      },
      "execution_count": null,
      "outputs": []
    },
    {
      "cell_type": "code",
      "source": [
        "delete_files_of_size('/path/to/folder', 17)\n"
      ],
      "metadata": {
        "id": "iyljIKi46uUw"
      },
      "execution_count": null,
      "outputs": []
    },
    {
      "cell_type": "code",
      "source": [
        "import os\n",
        "\n",
        "def count_files_in_folder(folder_path):\n",
        "    count = 0\n",
        "    for _, _, files in os.walk(folder_path):\n",
        "        count += len(files)\n",
        "    return count\n"
      ],
      "metadata": {
        "id": "F9mpGyE4XdM0"
      },
      "execution_count": null,
      "outputs": []
    },
    {
      "cell_type": "code",
      "source": [
        "folder_path = \"/path/to/folder\"\n",
        "num_files = count_files_in_folder(folder_path)\n",
        "print(\"Number of files in folder:\", num_files)\n"
      ],
      "metadata": {
        "id": "CZ1L9NNdXgmS"
      },
      "execution_count": null,
      "outputs": []
    },
    {
      "cell_type": "code",
      "source": [
        "import os\n",
        "\n",
        "def delete_files_of_size(folder_path, size):\n",
        "    for root, dirs, files in os.walk(folder_path):\n",
        "        for file in files:\n",
        "            file_path = os.path.join(root, file)\n",
        "            if os.path.isfile(file_path) and os.path.getsize(file_path) == size:\n",
        "                os.remove(file_path)\n",
        "                print(f\"Deleted file: {file_path}\")\n"
      ],
      "metadata": {
        "id": "4nk439d6Z1dk"
      },
      "execution_count": null,
      "outputs": []
    },
    {
      "cell_type": "code",
      "source": [
        "delete_files_of_size('/path/to/folder', 17)\n"
      ],
      "metadata": {
        "id": "t1bRAf-JZ4D-"
      },
      "execution_count": null,
      "outputs": []
    }
  ]
}