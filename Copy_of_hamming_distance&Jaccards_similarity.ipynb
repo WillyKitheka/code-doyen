{
  "nbformat": 4,
  "nbformat_minor": 0,
  "metadata": {
    "colab": {
      "provenance": [],
      "machine_shape": "hm",
      "authorship_tag": "ABX9TyPmQ7k8uAxg0y7o78tqinnw",
      "include_colab_link": true
    },
    "kernelspec": {
      "name": "python3",
      "display_name": "Python 3"
    },
    "language_info": {
      "name": "python"
    },
    "gpuClass": "standard"
  },
  "cells": [
    {
      "cell_type": "markdown",
      "metadata": {
        "id": "view-in-github",
        "colab_type": "text"
      },
      "source": [
        "<a href=\"https://colab.research.google.com/github/WillyKitheka/code-doyen/blob/main/Copy_of_hamming_distance%26Jaccards_similarity.ipynb\" target=\"_parent\"><img src=\"https://colab.research.google.com/assets/colab-badge.svg\" alt=\"Open In Colab\"/></a>"
      ]
    },
    {
      "cell_type": "code",
      "execution_count": null,
      "metadata": {
        "colab": {
          "base_uri": "https://localhost:8080/",
          "height": 397
        },
        "id": "2MVN1cGBnSEm",
        "outputId": "09303170-8be0-44d8-b5d4-677020ba3898"
      },
      "outputs": [
        {
          "output_type": "error",
          "ename": "TypeError",
          "evalue": "ignored",
          "traceback": [
            "\u001b[0;31m---------------------------------------------------------------------------\u001b[0m",
            "\u001b[0;31mTypeError\u001b[0m                                 Traceback (most recent call last)",
            "\u001b[0;32m<ipython-input-1-5122006b57ca>\u001b[0m in \u001b[0;36m<module>\u001b[0;34m\u001b[0m\n\u001b[1;32m     10\u001b[0m \u001b[0;34m\u001b[0m\u001b[0m\n\u001b[1;32m     11\u001b[0m \u001b[0;31m# Calculate the Hamming distance between the model prediction and each outcome in the sample space\u001b[0m\u001b[0;34m\u001b[0m\u001b[0;34m\u001b[0m\u001b[0m\n\u001b[0;32m---> 12\u001b[0;31m \u001b[0mdistances\u001b[0m \u001b[0;34m=\u001b[0m \u001b[0;34m[\u001b[0m\u001b[0mhamming_distance\u001b[0m\u001b[0;34m(\u001b[0m\u001b[0mmodel_prediction\u001b[0m\u001b[0;34m,\u001b[0m \u001b[0moutcome\u001b[0m\u001b[0;34m)\u001b[0m \u001b[0;32mfor\u001b[0m \u001b[0moutcome\u001b[0m \u001b[0;32min\u001b[0m \u001b[0msample_space\u001b[0m\u001b[0;34m]\u001b[0m\u001b[0;34m\u001b[0m\u001b[0;34m\u001b[0m\u001b[0m\n\u001b[0m\u001b[1;32m     13\u001b[0m \u001b[0;34m\u001b[0m\u001b[0m\n\u001b[1;32m     14\u001b[0m \u001b[0;31m# Filter the sample space to only include outcomes with a small Hamming distance from the model prediction\u001b[0m\u001b[0;34m\u001b[0m\u001b[0;34m\u001b[0m\u001b[0m\n",
            "\u001b[0;32m<ipython-input-1-5122006b57ca>\u001b[0m in \u001b[0;36m<listcomp>\u001b[0;34m(.0)\u001b[0m\n\u001b[1;32m     10\u001b[0m \u001b[0;34m\u001b[0m\u001b[0m\n\u001b[1;32m     11\u001b[0m \u001b[0;31m# Calculate the Hamming distance between the model prediction and each outcome in the sample space\u001b[0m\u001b[0;34m\u001b[0m\u001b[0;34m\u001b[0m\u001b[0m\n\u001b[0;32m---> 12\u001b[0;31m \u001b[0mdistances\u001b[0m \u001b[0;34m=\u001b[0m \u001b[0;34m[\u001b[0m\u001b[0mhamming_distance\u001b[0m\u001b[0;34m(\u001b[0m\u001b[0mmodel_prediction\u001b[0m\u001b[0;34m,\u001b[0m \u001b[0moutcome\u001b[0m\u001b[0;34m)\u001b[0m \u001b[0;32mfor\u001b[0m \u001b[0moutcome\u001b[0m \u001b[0;32min\u001b[0m \u001b[0msample_space\u001b[0m\u001b[0;34m]\u001b[0m\u001b[0;34m\u001b[0m\u001b[0;34m\u001b[0m\u001b[0m\n\u001b[0m\u001b[1;32m     13\u001b[0m \u001b[0;34m\u001b[0m\u001b[0m\n\u001b[1;32m     14\u001b[0m \u001b[0;31m# Filter the sample space to only include outcomes with a small Hamming distance from the model prediction\u001b[0m\u001b[0;34m\u001b[0m\u001b[0;34m\u001b[0m\u001b[0m\n",
            "\u001b[0;32m<ipython-input-1-5122006b57ca>\u001b[0m in \u001b[0;36mhamming_distance\u001b[0;34m(str1, str2)\u001b[0m\n\u001b[1;32m      1\u001b[0m \u001b[0;32mdef\u001b[0m \u001b[0mhamming_distance\u001b[0m\u001b[0;34m(\u001b[0m\u001b[0mstr1\u001b[0m\u001b[0;34m,\u001b[0m \u001b[0mstr2\u001b[0m\u001b[0;34m)\u001b[0m\u001b[0;34m:\u001b[0m\u001b[0;34m\u001b[0m\u001b[0;34m\u001b[0m\u001b[0m\n\u001b[1;32m      2\u001b[0m     \u001b[0;31m# Calculate the Hamming distance between two strings of equal length\u001b[0m\u001b[0;34m\u001b[0m\u001b[0;34m\u001b[0m\u001b[0m\n\u001b[0;32m----> 3\u001b[0;31m     \u001b[0;32mif\u001b[0m \u001b[0mlen\u001b[0m\u001b[0;34m(\u001b[0m\u001b[0mstr1\u001b[0m\u001b[0;34m)\u001b[0m \u001b[0;34m!=\u001b[0m \u001b[0mlen\u001b[0m\u001b[0;34m(\u001b[0m\u001b[0mstr2\u001b[0m\u001b[0;34m)\u001b[0m\u001b[0;34m:\u001b[0m\u001b[0;34m\u001b[0m\u001b[0;34m\u001b[0m\u001b[0m\n\u001b[0m\u001b[1;32m      4\u001b[0m         \u001b[0;32mreturn\u001b[0m \u001b[0;32mNone\u001b[0m\u001b[0;34m\u001b[0m\u001b[0;34m\u001b[0m\u001b[0m\n\u001b[1;32m      5\u001b[0m     \u001b[0;32melse\u001b[0m\u001b[0;34m:\u001b[0m\u001b[0;34m\u001b[0m\u001b[0;34m\u001b[0m\u001b[0m\n",
            "\u001b[0;31mTypeError\u001b[0m: object of type 'ellipsis' has no len()"
          ]
        }
      ],
      "source": [
        "def hamming_distance(str1, str2):\n",
        "    # Calculate the Hamming distance between two strings of equal length\n",
        "    if len(str1) != len(str2):\n",
        "        return None\n",
        "    else:\n",
        "        return sum(c1 != c2 for c1, c2 in zip(str1, str2))\n",
        "\n",
        "model_prediction = \"HHADA\"\n",
        "sample_space = [\"HHHHH\", \"HHHHD\", \"HHHHA\", ...] # all 243 possible outcomes\n",
        "\n",
        "# Calculate the Hamming distance between the model prediction and each outcome in the sample space\n",
        "distances = [hamming_distance(model_prediction, outcome) for outcome in sample_space]\n",
        "\n",
        "# Filter the sample space to only include outcomes with a small Hamming distance from the model prediction\n",
        "threshold = 2 # for example, allow up to 2 differences between the model prediction and the outcome\n",
        "filtered_outcomes = [outcome for outcome, distance in zip(sample_space, distances) if distance <= threshold]\n"
      ]
    },
    {
      "cell_type": "code",
      "source": [
        "def jaccard_similarity(set1, set2):\n",
        "    # Calculate the Jaccard similarity coefficient between two sets\n",
        "    intersection = len(set1 & set2)\n",
        "    union = len(set1 | set2)\n",
        "    if union == 0:\n",
        "        return 0\n",
        "    else:\n",
        "        return intersection / union\n",
        "\n",
        "model_prediction = [\"H\", \"H\", \"A\", \"D\", \"A\"]\n",
        "sample_space = [[\"H\", \"H\", \"H\", \"H\", \"H\"], [\"H\", \"H\", \"H\", \"H\", \"D\"], [\"H\", \"H\", \"H\", \"A\", \"H\"], ...] # all 243 possible outcomes\n",
        "\n",
        "# Convert the model prediction and each outcome in the sample space to sets\n",
        "model_set = set(model_prediction)\n",
        "outcome_sets = [set(outcome) for outcome in sample_space]\n",
        "\n",
        "# Calculate the Jaccard similarity coefficient between the model prediction and each outcome in the sample space\n",
        "similarities = [jaccard_similarity(model_set, outcome_set) for outcome_set in outcome_sets]\n",
        "\n",
        "# Filter the sample space to only include outcomes with a high Jaccard similarity coefficient with the model prediction\n",
        "threshold = 0.6 # for example, only allow outcomes with a Jaccard similarity coefficient of at least 0.6\n",
        "filtered_outcomes = [outcome for outcome, similarity in zip(sample_space, similarities) if similarity >= threshold]\n"
      ],
      "metadata": {
        "id": "6k8NqquknaRJ"
      },
      "execution_count": null,
      "outputs": []
    },
    {
      "cell_type": "code",
      "source": [
        "import numpy as np\n",
        "\n",
        "def cosine_similarity(vec1, vec2):\n",
        "    # Calculate the cosine similarity between two vectors\n",
        "    norm1 = np.linalg.norm(vec1)\n",
        "    norm2\n"
      ],
      "metadata": {
        "id": "oW9YV1Qyndwe"
      },
      "execution_count": null,
      "outputs": []
    }
  ]
}