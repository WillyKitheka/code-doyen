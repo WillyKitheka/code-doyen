{
  "nbformat": 4,
  "nbformat_minor": 0,
  "metadata": {
    "colab": {
      "provenance": [],
      "authorship_tag": "ABX9TyNUuU1a3G8r71a6LSS/HWkv",
      "include_colab_link": true
    },
    "kernelspec": {
      "name": "python3",
      "display_name": "Python 3"
    },
    "language_info": {
      "name": "python"
    }
  },
  "cells": [
    {
      "cell_type": "markdown",
      "metadata": {
        "id": "view-in-github",
        "colab_type": "text"
      },
      "source": [
        "<a href=\"https://colab.research.google.com/github/WillyKitheka/code-doyen/blob/main/SEARCH_code_Snippets.ipynb\" target=\"_parent\"><img src=\"https://colab.research.google.com/assets/colab-badge.svg\" alt=\"Open In Colab\"/></a>"
      ]
    },
    {
      "cell_type": "code",
      "execution_count": null,
      "metadata": {
        "id": "nQkublAE90KM"
      },
      "outputs": [],
      "source": [
        "import os\n",
        "import pandas as pd\n",
        "\n",
        "def search_column(paths, column_name):\n",
        "    results = []\n",
        "    for path in paths:\n",
        "        df = pd.read_csv(path)\n",
        "        if column_name in df.columns:\n",
        "            parent_folder = os.path.basename(os.path.dirname(path))\n",
        "            file_name = os.path.basename(path)\n",
        "            results.append([parent_folder, file_name, path])\n",
        "    return pd.DataFrame(results, columns=['Parent Folder', 'File Name', 'File Path'])"
      ]
    },
    {
      "cell_type": "code",
      "source": [
        "results_picks = search_column(csv_files_2, 'pick_75446861')"
      ],
      "metadata": {
        "id": "2YHdnqI19501"
      },
      "execution_count": null,
      "outputs": []
    },
    {
      "cell_type": "code",
      "source": [
        "import os\n",
        "import pandas as pd\n",
        "\n",
        "def search_column_vectorized(paths, column_name):\n",
        "    results = []\n",
        "    for path in paths:\n",
        "        try:\n",
        "            df = pd.read_csv(path, usecols=[column_name])\n",
        "            parent_folder = os.path.basename(os.path.dirname(path))\n",
        "            file_name = os.path.basename(path)\n",
        "            results.append([parent_folder, file_name, path])\n",
        "        except ValueError as e:\n",
        "            pass\n",
        "    return pd.DataFrame(results, columns=['Parent Folder', 'File Name', 'File Path'])"
      ],
      "metadata": {
        "id": "IZIwinPm99QE"
      },
      "execution_count": null,
      "outputs": []
    },
    {
      "cell_type": "code",
      "source": [
        "results_picks"
      ],
      "metadata": {
        "id": "V8mer_H4-B7p"
      },
      "execution_count": null,
      "outputs": []
    },
    {
      "cell_type": "code",
      "source": [
        "import os\n",
        "import dask.dataframe as dd\n",
        "\n",
        "def search_column_by_dask(paths, column_name):\n",
        "    results = []\n",
        "    for path in paths:\n",
        "        df = dd.read_csv(path, usecols=[column_name])\n",
        "        if column_name in df.columns:\n",
        "            parent_folder = os.path.basename(os.path.dirname(path))\n",
        "            file_name = os.path.basename(path)\n",
        "            results.append([parent_folder, file_name, path])\n",
        "    return pd.DataFrame(results, columns=['Parent Folder', 'File Name', 'File Path'])"
      ],
      "metadata": {
        "id": "h3j7FV9K-LVf"
      },
      "execution_count": null,
      "outputs": []
    },
    {
      "cell_type": "code",
      "source": [
        "results_picks = search_column_by_dask(csv_files_2, 'pick_75446861')"
      ],
      "metadata": {
        "id": "WdYnI5yz-PMN"
      },
      "execution_count": null,
      "outputs": []
    },
    {
      "cell_type": "code",
      "source": [
        "import dask.dataframe as dd\n",
        "\n",
        "def fetch_column(file_path, column_name):\n",
        "    return dd.read_csv(file_path, usecols=[column_name])"
      ],
      "metadata": {
        "id": "G46ebCV0-Sfg"
      },
      "execution_count": null,
      "outputs": []
    },
    {
      "cell_type": "code",
      "source": [
        "file_path = '/content/drive/MyDrive/maGiK_17_sample_space/df_magik17_file48_concat.csv'"
      ],
      "metadata": {
        "id": "DeO6oEhF-X7V"
      },
      "execution_count": null,
      "outputs": []
    },
    {
      "cell_type": "code",
      "source": [
        "file_path"
      ],
      "metadata": {
        "id": "Tu9eGj2U-bG5"
      },
      "execution_count": null,
      "outputs": []
    },
    {
      "cell_type": "code",
      "source": [
        "pick_fetch = fetch_column(file_path, 'pick_75446861')"
      ],
      "metadata": {
        "id": "OubdAskj-enh"
      },
      "execution_count": null,
      "outputs": []
    },
    {
      "cell_type": "code",
      "source": [
        "import pandas as pd\n",
        "\n",
        "def fetch_column_by_usecols(file_path, column_name):\n",
        "    return pd.read_csv(file_path, usecols=[column_name])\n"
      ],
      "metadata": {
        "id": "RMuWjWjU-hkC"
      },
      "execution_count": null,
      "outputs": []
    },
    {
      "cell_type": "code",
      "source": [
        "pick_fetch_1 = fetch_column_by_usecols(file_path, 'pick_75446861')"
      ],
      "metadata": {
        "id": "qREzzvAL-k9v"
      },
      "execution_count": null,
      "outputs": []
    },
    {
      "cell_type": "code",
      "source": [
        "pick_fetch_1"
      ],
      "metadata": {
        "id": "-NqU_bIK-oX_"
      },
      "execution_count": null,
      "outputs": []
    }
  ]
}