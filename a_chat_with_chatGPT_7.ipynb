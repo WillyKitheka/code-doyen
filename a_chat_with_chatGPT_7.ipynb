{
  "nbformat": 4,
  "nbformat_minor": 0,
  "metadata": {
    "colab": {
      "provenance": [],
      "authorship_tag": "ABX9TyO0QAEGX/NEtaaWhg9HyEgf",
      "include_colab_link": true
    },
    "kernelspec": {
      "name": "python3",
      "display_name": "Python 3"
    },
    "language_info": {
      "name": "python"
    }
  },
  "cells": [
    {
      "cell_type": "markdown",
      "metadata": {
        "id": "view-in-github",
        "colab_type": "text"
      },
      "source": [
        "<a href=\"https://colab.research.google.com/github/WillyKitheka/code-doyen/blob/main/a_chat_with_chatGPT_7.ipynb\" target=\"_parent\"><img src=\"https://colab.research.google.com/assets/colab-badge.svg\" alt=\"Open In Colab\"/></a>"
      ]
    },
    {
      "cell_type": "code",
      "execution_count": null,
      "metadata": {
        "id": "Z-4L9bqF-Abv"
      },
      "outputs": [],
      "source": [
        "import pandas as pd\n",
        "\n",
        "# Create example DataFrames\n",
        "df1 = pd.DataFrame({'A': [1, 2, 3], 'B': [4, 5, 6], 'C': [7, 8, 9]}, index=[1, 2, 3])\n",
        "df2 = pd.DataFrame({'A': [10, 20, 30], 'B': [40, 50, 60], 'C': [70, 80, 90]}, index=[1, 2, 3])\n",
        "\n",
        "# Merge DataFrames on index\n",
        "merged_df = pd.merge(df1, df2, left_index=True, right_index=True)\n",
        "\n",
        "# Sum values in column 'A'\n",
        "sum_df = merged_df.groupby(merged_df.index).sum()\n",
        "\n",
        "# Keep only columns 'A' and 'B'\n",
        "result = sum_df[['A', 'B']]\n",
        "\n",
        "print(result)\n"
      ]
    },
    {
      "cell_type": "code",
      "source": [
        "# Add values of df1 and df2\n",
        "sum_df = df1.add(df2, fill_value=0)\n",
        "\n",
        "# Keep only columns 'A' and 'B'\n",
        "result = sum_df[['A', 'B']]\n",
        "\n",
        "print(result)\n"
      ],
      "metadata": {
        "id": "uro4nw5G-EP8"
      },
      "execution_count": null,
      "outputs": []
    }
  ]
}